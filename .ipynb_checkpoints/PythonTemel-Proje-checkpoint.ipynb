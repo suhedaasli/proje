{
 "cells": [
  {
   "cell_type": "markdown",
   "id": "ba6a0472",
   "metadata": {},
   "source": [
    "## Proje 1"
   ]
  },
  {
   "cell_type": "code",
   "execution_count": 1,
   "id": "6b93caef",
   "metadata": {},
   "outputs": [],
   "source": [
    "def func(x,y):\n",
    "    for i in x:\n",
    "        if type(i)==list:\n",
    "            for j in i:\n",
    "                y.append(j)\n",
    "        else:\n",
    "            y.append(i)  "
   ]
  },
  {
   "cell_type": "code",
   "execution_count": 2,
   "id": "335403e9",
   "metadata": {},
   "outputs": [],
   "source": [
    "a=[[1,'a',['cat'],2],[[[3]],'dog'],4,5]\n",
    "b=[]\n",
    "c=[]\n",
    "d=[]"
   ]
  },
  {
   "cell_type": "code",
   "execution_count": 3,
   "id": "94c5a8e6",
   "metadata": {},
   "outputs": [
    {
     "data": {
      "text/plain": [
       "[1, 'a', ['cat'], 2, [[3]], 'dog', 4, 5]"
      ]
     },
     "execution_count": 3,
     "metadata": {},
     "output_type": "execute_result"
    }
   ],
   "source": [
    "func(a,b)\n",
    "b"
   ]
  },
  {
   "cell_type": "code",
   "execution_count": 4,
   "id": "5a4515e3",
   "metadata": {},
   "outputs": [
    {
     "data": {
      "text/plain": [
       "[1, 'a', 'cat', 2, [3], 'dog', 4, 5]"
      ]
     },
     "execution_count": 4,
     "metadata": {},
     "output_type": "execute_result"
    }
   ],
   "source": [
    "func(b,c)\n",
    "c"
   ]
  },
  {
   "cell_type": "code",
   "execution_count": 5,
   "id": "76254e4c",
   "metadata": {},
   "outputs": [
    {
     "data": {
      "text/plain": [
       "[1, 'a', 'cat', 2, 3, 'dog', 4, 5]"
      ]
     },
     "execution_count": 5,
     "metadata": {},
     "output_type": "execute_result"
    }
   ],
   "source": [
    "func(c,d)\n",
    "d"
   ]
  },
  {
   "cell_type": "markdown",
   "id": "d9c47d51",
   "metadata": {},
   "source": [
    "## Proje 2"
   ]
  },
  {
   "cell_type": "code",
   "execution_count": 6,
   "id": "525527c6",
   "metadata": {},
   "outputs": [],
   "source": [
    "a1=[[1, 2], [3, 4], [5, 6, 7]]"
   ]
  },
  {
   "cell_type": "code",
   "execution_count": 7,
   "id": "3d8dbeb8",
   "metadata": {},
   "outputs": [],
   "source": [
    "def func1(x):\n",
    "    for i in x:\n",
    "        if type(i)==list:\n",
    "            i.reverse()\n",
    "    x.reverse()"
   ]
  },
  {
   "cell_type": "code",
   "execution_count": 8,
   "id": "065a0faf",
   "metadata": {},
   "outputs": [
    {
     "data": {
      "text/plain": [
       "[[7, 6, 5], [4, 3], [2, 1]]"
      ]
     },
     "execution_count": 8,
     "metadata": {},
     "output_type": "execute_result"
    }
   ],
   "source": [
    "func1(a1)\n",
    "a1"
   ]
  },
  {
   "cell_type": "code",
   "execution_count": null,
   "id": "6327f00c",
   "metadata": {},
   "outputs": [],
   "source": []
  }
 ],
 "metadata": {
  "kernelspec": {
   "display_name": "Python 3 (ipykernel)",
   "language": "python",
   "name": "python3"
  },
  "language_info": {
   "codemirror_mode": {
    "name": "ipython",
    "version": 3
   },
   "file_extension": ".py",
   "mimetype": "text/x-python",
   "name": "python",
   "nbconvert_exporter": "python",
   "pygments_lexer": "ipython3",
   "version": "3.8.12"
  }
 },
 "nbformat": 4,
 "nbformat_minor": 5
}
